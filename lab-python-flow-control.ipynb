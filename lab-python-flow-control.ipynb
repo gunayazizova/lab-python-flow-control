{
 "cells": [
  {
   "cell_type": "markdown",
   "id": "d3bfc191-8885-42ee-b0a0-bbab867c6f9f",
   "metadata": {
    "tags": []
   },
   "source": [
    "# Lab | Flow Control"
   ]
  },
  {
   "cell_type": "markdown",
   "id": "3851fcd1-cf98-4653-9c89-e003b7ec9400",
   "metadata": {},
   "source": [
    "## Exercise: Managing Customer Orders Optimized\n",
    "\n",
    "In the last lab, you were starting an online store that sells various products. To ensure smooth operations, you developed a program that manages customer orders and inventory.\n",
    "\n",
    "You did so without using flow control. Let's go a step further and improve this code.\n",
    "\n",
    "Follow the steps below to complete the exercise:\n",
    "\n",
    "1. Look at your code from the lab data structures, and improve repeated code with loops.\n",
    "\n",
    "2. Instead of asking the user to input the name of three products that a customer wants to order, do the following:\n",
    "    \n",
    "    a. Prompt the user to enter the name of a product that a customer wants to order.\n",
    "    \n",
    "    b. Add the product name to the \"customer_orders\" set.\n",
    "    \n",
    "    c. Ask the user if they want to add another product (yes/no).\n",
    "    \n",
    "    d. Continue the loop until the user does not want to add another product.\n",
    "\n",
    "3. Instead of updating the inventory by subtracting 1 from the quantity of each product, only do it for  the products that were ordered (those in \"customer_orders\")."
   ]
  },
  {
   "cell_type": "code",
   "execution_count": null,
   "id": "b5387d20",
   "metadata": {},
   "outputs": [],
   "source": [
    "# 1. Define a list called `products`\n",
    "products=['t-shirt','mug','hat','book','keychain']\n",
    "\n",
    "# 2. Create an empty dictionary called `inventory`\n",
    "inventory={}\n",
    "\n",
    "# 3. Ask the user to input the quantity of each product available in the inventory\n",
    "for product in products:\n",
    "    quantity=int(input(f'Enter the quantity for {product}:'))\n",
    "    inventory[product]=quantity\n",
    "\n",
    "# 4. Create an empty set called `customer_orders`\n",
    "customer_orders=set()\n",
    "\n",
    "# 5. Ask the user to input the name of products they want to order and continue until they don't want to add more\n",
    "while True:\n",
    "    order = input(\"Enter the name of a product to order (or type 'done' to finish): \").lower()\n",
    "   \n",
    "    # Check if the user wants to finish the order\n",
    "    if order == 'done':\n",
    "        print('done')\n",
    "\n",
    "    # Check if the product is valid\n",
    "    if order in products:\n",
    "        customer_orders.add(order)\n",
    "    else:\n",
    "        print(\"Invalid product. Please enter a valid product from the list.\")\n",
    "    \n",
    "    # Ask the user if they want to add another product\n",
    "    another = input(\"Do you want to add another product? (yes/no): \").lower()\n",
    "    if another == 'no':\n",
    "        print('Does not want to add another product')\n",
    "\n",
    "# 6. Print the products in the `customer_orders` set\n",
    "print(\"\\nCustomer Orders:\", customer_orders)\n",
    "\n",
    "# 7. Calculate order statistics\n",
    "total_products_ordered = len(customer_orders)\n",
    "percentage_ordered = (total_products_ordered / len(products)) * 100\n",
    "order_status = (total_products_ordered, percentage_ordered)\n",
    "\n",
    "# 8. Print the order statistics\n",
    "print(\"\\nOrder Statistics:\")\n",
    "print(f\"Total Products Ordered: {order_status[0]}\")\n",
    "print(f\"Percentage of Products Ordered: {order_status[1]:.2f}%\")\n",
    "\n",
    "# 9. Update the inventory by subtracting 1 only for the products in customer_orders\n",
    "for product in customer_orders:\n",
    "    if inventory[product] > 0:\n",
    "        inventory[product] -= 1\n",
    "\n",
    "# 10. Print the updated inventory\n",
    "print(\"\\nUpdated Inventory:\")\n",
    "for product, quantity in inventory.items():\n",
    "    print(f\"{product}: {quantity}\")"
   ]
  },
  {
   "cell_type": "code",
   "execution_count": 6,
   "id": "d13701fe",
   "metadata": {},
   "outputs": [],
   "source": [
    "#done"
   ]
  },
  {
   "cell_type": "code",
   "execution_count": null,
   "id": "6e792e0a",
   "metadata": {},
   "outputs": [],
   "source": []
  }
 ],
 "metadata": {
  "kernelspec": {
   "display_name": "Python 3 (ipykernel)",
   "language": "python",
   "name": "python3"
  },
  "language_info": {
   "codemirror_mode": {
    "name": "ipython",
    "version": 3
   },
   "file_extension": ".py",
   "mimetype": "text/x-python",
   "name": "python",
   "nbconvert_exporter": "python",
   "pygments_lexer": "ipython3",
   "version": "3.11.5"
  }
 },
 "nbformat": 4,
 "nbformat_minor": 5
}
